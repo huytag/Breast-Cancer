{
  "nbformat": 4,
  "nbformat_minor": 0,
  "metadata": {
    "colab": {
      "name": "phan_tich_10.ipynb",
      "provenance": [],
      "collapsed_sections": []
    },
    "kernelspec": {
      "name": "python3",
      "display_name": "Python 3"
    }
  },
  "cells": [
    {
      "cell_type": "code",
      "metadata": {
        "id": "2AiZhJxwyzYE",
        "outputId": "05e1ce60-60b6-4104-caee-2f49d1a5774e",
        "colab": {
          "base_uri": "https://localhost:8080/"
        }
      },
      "source": [
        "import numpy\n",
        "import pandas\n",
        "import statsmodels.api as sm\n",
        "import seaborn\n",
        "import statsmodels.formula.api as smf \n",
        "import matplotlib.pyplot as plt"
      ],
      "execution_count": 1,
      "outputs": [
        {
          "output_type": "stream",
          "text": [
            "/usr/local/lib/python3.6/dist-packages/statsmodels/tools/_testing.py:19: FutureWarning: pandas.util.testing is deprecated. Use the functions in the public API at pandas.testing instead.\n",
            "  import pandas.util.testing as tm\n"
          ],
          "name": "stderr"
        }
      ]
    },
    {
      "cell_type": "code",
      "metadata": {
        "id": "G5gxV2aBzDFK"
      },
      "source": [
        "pandas.set_option('display.float_format', lambda x:'%.2f'%x)"
      ],
      "execution_count": 2,
      "outputs": []
    },
    {
      "cell_type": "code",
      "metadata": {
        "id": "lispIp45zGeQ"
      },
      "source": [
        "data = pandas.read_csv('/content/drive/My Drive/data/nesarc.csv', low_memory=False)"
      ],
      "execution_count": 3,
      "outputs": []
    },
    {
      "cell_type": "code",
      "metadata": {
        "id": "kp6oXxxuzJsA"
      },
      "source": [
        "data['IDNUM'] =pandas.to_numeric(data['IDNUM'], errors='coerce')\n",
        "data['TAB12MDX'] = pandas.to_numeric(data['TAB12MDX'], errors='coerce')\n",
        "data['MAJORDEPLIFE'] = pandas.to_numeric(data['MAJORDEPLIFE'], errors='coerce')\n",
        "data['NDSymptoms'] = pandas.to_numeric(data['NDSymptoms'], errors='coerce')\n",
        "data['SOCPDLIFE'] = pandas.to_numeric(data['SOCPDLIFE'], errors='coerce')\n",
        "data['S3AQ3C1'] = pandas.to_numeric(data['S3AQ3C1'], errors='coerce')\n",
        "data['AGE'] =pandas.to_numeric(data['AGE'], errors='coerce')\n",
        "data['SEX'] = pandas.to_numeric(data['SEX'], errors='coerce')\n",
        "data['S3AQ3B1'] = pandas.to_numeric(data['S3AQ3B1'], errors='coerce')\n",
        "\n",
        "sub1=data[(data['AGE']<=25) & (data['CHECK321']==1) & (data['S3AQ3B1']==1)]"
      ],
      "execution_count": 4,
      "outputs": []
    },
    {
      "cell_type": "code",
      "metadata": {
        "id": "xH2f_UXrzsfg"
      },
      "source": [
        "sub1['numbercigsmoked_c'] = (sub1['S3AQ3C1'] - sub1['S3AQ3C1'].mean())\n",
        "\n",
        "sub1['age_c']=(sub1['AGE'] - sub1['AGE'].mean())"
      ],
      "execution_count": null,
      "outputs": []
    },
    {
      "cell_type": "code",
      "metadata": {
        "id": "2x45F0MRzwQY"
      },
      "source": [
        "# Mã hóa lại\n",
        "sub1['ETHRACE2A'] = pandas.to_numeric(sub1['ETHRACE2A'], errors='coerce')\n",
        "recode2 = {1: 1, 2: 2, 3: 3, 4: 3, 5: 0}\n",
        "sub1['ETHRACE2A'] = sub1['ETHRACE2A'].replace(9, numpy.nan)\n",
        "sub1['ETHRACE'] = sub1['ETHRACE2A'].map(recode2)"
      ],
      "execution_count": null,
      "outputs": []
    },
    {
      "cell_type": "code",
      "metadata": {
        "id": "b8H2WuAX03kw",
        "outputId": "a47ca6a6-3781-485c-8348-a1f440e800ef",
        "colab": {
          "base_uri": "https://localhost:8080/"
        }
      },
      "source": [
        "# Mô hình hồi quy\n",
        "reg6 = smf.ols('NDSymptoms ~ DYSLIFE + MAJORDEPLIFE + numbercigsmoked_c + age_c + SEX + C(ETHRACE)', data=sub1).fit()\n",
        "print (reg6.summary())"
      ],
      "execution_count": 7,
      "outputs": [
        {
          "output_type": "stream",
          "text": [
            "                            OLS Regression Results                            \n",
            "==============================================================================\n",
            "Dep. Variable:             NDSymptoms   R-squared:                       0.125\n",
            "Model:                            OLS   Adj. R-squared:                  0.120\n",
            "Method:                 Least Squares   F-statistic:                     23.46\n",
            "Date:                Wed, 04 Nov 2020   Prob (F-statistic):           7.76e-34\n",
            "Time:                        09:09:07   Log-Likelihood:                -2613.4\n",
            "No. Observations:                1320   AIC:                             5245.\n",
            "Df Residuals:                    1311   BIC:                             5291.\n",
            "Df Model:                           8                                         \n",
            "Covariance Type:            nonrobust                                         \n",
            "=====================================================================================\n",
            "                        coef    std err          t      P>|t|      [0.025      0.975]\n",
            "-------------------------------------------------------------------------------------\n",
            "Intercept             2.3243      0.186     12.520      0.000       1.960       2.689\n",
            "C(ETHRACE)[T.1]      -0.0284      0.134     -0.213      0.832      -0.291       0.234\n",
            "C(ETHRACE)[T.2]      -0.0695      0.179     -0.388      0.698      -0.421       0.282\n",
            "C(ETHRACE)[T.3]       0.3630      0.232      1.562      0.119      -0.093       0.819\n",
            "DYSLIFE               0.3154      0.209      1.508      0.132      -0.095       0.726\n",
            "MAJORDEPLIFE          1.2844      0.117     10.990      0.000       1.055       1.514\n",
            "numbercigsmoked_c     0.0224      0.005      4.528      0.000       0.013       0.032\n",
            "age_c                -0.0397      0.022     -1.785      0.075      -0.083       0.004\n",
            "SEX                  -0.0909      0.099     -0.914      0.361      -0.286       0.104\n",
            "==============================================================================\n",
            "Omnibus:                       68.855   Durbin-Watson:                   2.089\n",
            "Prob(Omnibus):                  0.000   Jarque-Bera (JB):               46.940\n",
            "Skew:                           0.347   Prob(JB):                     6.41e-11\n",
            "Kurtosis:                       2.390   Cond. No.                         58.9\n",
            "==============================================================================\n",
            "\n",
            "Warnings:\n",
            "[1] Standard Errors assume that the covariance matrix of the errors is correctly specified.\n"
          ],
          "name": "stdout"
        }
      ]
    },
    {
      "cell_type": "code",
      "metadata": {
        "id": "3iLbq72z1IpY"
      },
      "source": [
        "######################## HỒI QUY LOGISTIC ########################################"
      ],
      "execution_count": null,
      "outputs": []
    },
    {
      "cell_type": "code",
      "metadata": {
        "id": "sw_crWmo6WAz"
      },
      "source": [
        "sub1['S3AQ3B1']=sub1['S3AQ3B1'].replace(9, numpy.nan)\n",
        "sub1['S3AQ3C1']=sub1['S3AQ3C1'].replace(99, numpy.nan)\n",
        "\n",
        "recode1 = {1: 30, 2: 22, 3: 14, 4: 5, 5: 2.5, 6: 1}\n",
        "sub1['USFREQMO']= sub1['S3AQ3B1'].map(recode1)\n",
        "sub1['USFREQMO'] = pandas.to_numeric(sub1['USFREQMO'], errors='coerce')\n",
        "\n",
        "sub1['NUMCIGMO_EST']=sub1['USFREQMO'] * sub1['S3AQ3C1']\n",
        "sub1['NUMCIGMO_EST']= pandas.to_numeric(sub1['NUMCIGMO_EST'], errors='coerce')"
      ],
      "execution_count": null,
      "outputs": []
    },
    {
      "cell_type": "code",
      "metadata": {
        "id": "kN7Q3v907Wm6"
      },
      "source": [
        "sub2 = sub1[['NUMCIGMO_EST', 'MAJORDEPLIFE']].dropna()"
      ],
      "execution_count": 9,
      "outputs": []
    },
    {
      "cell_type": "code",
      "metadata": {
        "id": "AIhewHtvWN2Q",
        "outputId": "cc73bd4a-0a5c-4ba3-887d-8f7902df7140",
        "colab": {
          "base_uri": "https://localhost:8080/"
        }
      },
      "source": [
        "log_reg = smf.logit(formula = 'MAJORDEPLIFE ~ NUMCIGMO_EST', data = sub2).fit()"
      ],
      "execution_count": 10,
      "outputs": [
        {
          "output_type": "stream",
          "text": [
            "Optimization terminated successfully.\n",
            "         Current function value: 0.581005\n",
            "         Iterations 5\n"
          ],
          "name": "stdout"
        }
      ]
    },
    {
      "cell_type": "code",
      "metadata": {
        "id": "QRv6afPrWZS_",
        "outputId": "a44c89c9-483f-41cd-a7ce-e91580cf38c6",
        "colab": {
          "base_uri": "https://localhost:8080/"
        }
      },
      "source": [
        "print(log_reg.summary())"
      ],
      "execution_count": 11,
      "outputs": [
        {
          "output_type": "stream",
          "text": [
            "                           Logit Regression Results                           \n",
            "==============================================================================\n",
            "Dep. Variable:           MAJORDEPLIFE   No. Observations:                 1315\n",
            "Model:                          Logit   Df Residuals:                     1313\n",
            "Method:                           MLE   Df Model:                            1\n",
            "Date:                Wed, 04 Nov 2020   Pseudo R-squ.:                0.001198\n",
            "Time:                        09:43:11   Log-Likelihood:                -764.02\n",
            "converged:                       True   LL-Null:                       -764.94\n",
            "Covariance Type:            nonrobust   LLR p-value:                    0.1758\n",
            "================================================================================\n",
            "                   coef    std err          z      P>|z|      [0.025      0.975]\n",
            "--------------------------------------------------------------------------------\n",
            "Intercept       -1.1315      0.114     -9.920      0.000      -1.355      -0.908\n",
            "NUMCIGMO_EST     0.0003      0.000      1.364      0.172      -0.000       0.001\n",
            "================================================================================\n"
          ],
          "name": "stdout"
        }
      ]
    },
    {
      "cell_type": "code",
      "metadata": {
        "id": "Ut89WF8J7b7R"
      },
      "source": [
        "### Đánh giá mô hình logistic\n",
        "X = sub2[['NUMCIGMO_EST']]\n",
        "y = sub2[['MAJORDEPLIFE']]"
      ],
      "execution_count": 13,
      "outputs": []
    },
    {
      "cell_type": "code",
      "metadata": {
        "id": "X7E7fZuc8v8i"
      },
      "source": [
        "# Chia dữ liệu thành 2 tập: train và test\n",
        "from sklearn.model_selection import train_test_split\n",
        "X_train, X_test, y_train, y_test = train_test_split(X, y, test_size=0.3, random_state=42, shuffle=True)"
      ],
      "execution_count": 14,
      "outputs": []
    },
    {
      "cell_type": "code",
      "metadata": {
        "id": "f47WKWAJ9L4i",
        "outputId": "f0b058f4-7de4-42ea-be25-b3730bf011f7",
        "colab": {
          "base_uri": "https://localhost:8080/"
        }
      },
      "source": [
        "log_reg2 = sm.Logit(y_train, X_train).fit()"
      ],
      "execution_count": 15,
      "outputs": [
        {
          "output_type": "stream",
          "text": [
            "Optimization terminated successfully.\n",
            "         Current function value: 0.625513\n",
            "         Iterations 5\n"
          ],
          "name": "stdout"
        }
      ]
    },
    {
      "cell_type": "code",
      "metadata": {
        "id": "dW8LCUrK9SW6"
      },
      "source": [
        "yhat = log_reg2.predict(X_test) \n",
        "prediction = list(map(round, yhat))"
      ],
      "execution_count": 18,
      "outputs": []
    },
    {
      "cell_type": "code",
      "metadata": {
        "id": "3J2AFgNf9ZrS"
      },
      "source": [
        "from sklearn.metrics import (confusion_matrix, accuracy_score)"
      ],
      "execution_count": 19,
      "outputs": []
    },
    {
      "cell_type": "code",
      "metadata": {
        "id": "WNHz5Ce29o9a",
        "outputId": "52f36718-9d21-4de4-fb79-42be4c68e3a4",
        "colab": {
          "base_uri": "https://localhost:8080/"
        }
      },
      "source": [
        "cm = confusion_matrix(y_test, prediction)\n",
        "print (\"Confusion Matrix : \\n\", cm)"
      ],
      "execution_count": 20,
      "outputs": [
        {
          "output_type": "stream",
          "text": [
            "Confusion Matrix : \n",
            " [[295   0]\n",
            " [100   0]]\n"
          ],
          "name": "stdout"
        }
      ]
    },
    {
      "cell_type": "code",
      "metadata": {
        "id": "1pyBaCaU9rpy",
        "outputId": "56a6d942-bc63-438f-8aa6-f84da8b69019",
        "colab": {
          "base_uri": "https://localhost:8080/"
        }
      },
      "source": [
        "print('Test accuracy = ', accuracy_score(y_test, prediction))"
      ],
      "execution_count": 21,
      "outputs": [
        {
          "output_type": "stream",
          "text": [
            "Test accuracy =  0.7468354430379747\n"
          ],
          "name": "stdout"
        }
      ]
    },
    {
      "cell_type": "code",
      "metadata": {
        "id": "EU3sSuBOYxu4"
      },
      "source": [
        "############# TEST AGAIN ###########################"
      ],
      "execution_count": null,
      "outputs": []
    },
    {
      "cell_type": "code",
      "metadata": {
        "id": "m6xjhxu19una"
      },
      "source": [
        "train, test = train_test_split(sub2, test_size=0.3, random_state=42, shuffle=True)"
      ],
      "execution_count": 22,
      "outputs": []
    },
    {
      "cell_type": "code",
      "metadata": {
        "id": "9-IGT1GAYBnH",
        "outputId": "91e0592e-fee7-4f95-f7fb-9c3c3efc0d13",
        "colab": {
          "base_uri": "https://localhost:8080/"
        }
      },
      "source": [
        "log_reg3 = smf.logit(formula = 'MAJORDEPLIFE ~ NUMCIGMO_EST', data = train).fit()"
      ],
      "execution_count": 23,
      "outputs": [
        {
          "output_type": "stream",
          "text": [
            "Optimization terminated successfully.\n",
            "         Current function value: 0.587253\n",
            "         Iterations 5\n"
          ],
          "name": "stdout"
        }
      ]
    },
    {
      "cell_type": "code",
      "metadata": {
        "id": "Uz0I8J04YNa_"
      },
      "source": [
        "yhat = log_reg3.predict(test[['NUMCIGMO_EST']]) \n",
        "prediction = list(map(round, yhat))"
      ],
      "execution_count": 24,
      "outputs": []
    },
    {
      "cell_type": "code",
      "metadata": {
        "id": "uMrhebXAYWb-",
        "outputId": "b3370ec2-8193-42a0-ffb3-3210cf41670a",
        "colab": {
          "base_uri": "https://localhost:8080/"
        }
      },
      "source": [
        "cm = confusion_matrix(test[['MAJORDEPLIFE']], prediction)\n",
        "print (\"Confusion Matrix : \\n\", cm)"
      ],
      "execution_count": 25,
      "outputs": [
        {
          "output_type": "stream",
          "text": [
            "Confusion Matrix : \n",
            " [[295   0]\n",
            " [100   0]]\n"
          ],
          "name": "stdout"
        }
      ]
    },
    {
      "cell_type": "code",
      "metadata": {
        "id": "f8pqTjyNYjpg",
        "outputId": "11794914-135a-45ec-8bb8-7c0f7c91997c",
        "colab": {
          "base_uri": "https://localhost:8080/"
        }
      },
      "source": [
        "print('Test accuracy = ', accuracy_score(test[['MAJORDEPLIFE']], prediction))"
      ],
      "execution_count": 26,
      "outputs": [
        {
          "output_type": "stream",
          "text": [
            "Test accuracy =  0.7468354430379747\n"
          ],
          "name": "stdout"
        }
      ]
    },
    {
      "cell_type": "code",
      "metadata": {
        "id": "zGdMfAl_Yr0P"
      },
      "source": [
        ""
      ],
      "execution_count": null,
      "outputs": []
    }
  ]
}